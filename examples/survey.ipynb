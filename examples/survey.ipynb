{
 "cells": [
  {
   "cell_type": "code",
   "execution_count": 1,
   "metadata": {},
   "outputs": [],
   "source": [
    "\n",
    "from pathlib import Path\n",
    "import numpy as np\n",
    "import matplotlib.pyplot as plt\n"
   ]
  },
  {
   "cell_type": "code",
   "execution_count": 2,
   "metadata": {},
   "outputs": [],
   "source": [
    "\n",
    "from cmass.survey.tools import xyz_to_sky"
   ]
  },
  {
   "cell_type": "code",
   "execution_count": 3,
   "metadata": {},
   "outputs": [],
   "source": [
    "\n",
    "from astropy import cosmology"
   ]
  },
  {
   "cell_type": "code",
   "execution_count": 8,
   "metadata": {},
   "outputs": [],
   "source": [
    "from summarizer.two_point import TwoPCF, Pk, Mk\n",
    "from summarizer.data import BoxCatalogue, SurveyCatalogue \n",
    "#from summarizer.wavelet import WST\n",
    "from summarizer.environment import DensitySplit\n"
   ]
  },
  {
   "cell_type": "code",
   "execution_count": 9,
   "metadata": {},
   "outputs": [],
   "source": [
    "%load_ext autoreload\n",
    "%autoreload 2"
   ]
  },
  {
   "cell_type": "code",
   "execution_count": 10,
   "metadata": {},
   "outputs": [
    {
     "ename": "ModuleNotFoundError",
     "evalue": "No module named 'readfof'",
     "output_type": "error",
     "traceback": [
      "\u001b[0;31m---------------------------------------------------------------------------\u001b[0m",
      "\u001b[0;31mModuleNotFoundError\u001b[0m                       Traceback (most recent call last)",
      "Cell \u001b[0;32mIn[10], line 1\u001b[0m\n\u001b[0;32m----> 1\u001b[0m cat \u001b[38;5;241m=\u001b[39m \u001b[43mBoxCatalogue\u001b[49m\u001b[38;5;241;43m.\u001b[39;49m\u001b[43mfrom_quijote\u001b[49m\u001b[43m(\u001b[49m\n\u001b[1;32m      2\u001b[0m \u001b[43m    \u001b[49m\u001b[43mnode\u001b[49m\u001b[38;5;241;43m=\u001b[39;49m\u001b[38;5;241;43m0\u001b[39;49m\u001b[43m,\u001b[49m\n\u001b[1;32m      3\u001b[0m \u001b[43m    \u001b[49m\u001b[43mredshift\u001b[49m\u001b[38;5;241;43m=\u001b[39;49m\u001b[38;5;241;43m0.5\u001b[39;49m\u001b[43m,\u001b[49m\n\u001b[1;32m      4\u001b[0m \u001b[43m    \u001b[49m\u001b[43mn_halos\u001b[49m\u001b[38;5;241;43m=\u001b[39;49m\u001b[38;5;241;43m10_000\u001b[39;49m\u001b[43m,\u001b[49m\n\u001b[1;32m      5\u001b[0m \u001b[43m    \u001b[49m\u001b[43mpath_to_lhcs\u001b[49m\u001b[38;5;241;43m=\u001b[39;49m\u001b[43m \u001b[49m\u001b[43mPath\u001b[49m\u001b[43m(\u001b[49m\u001b[38;5;124;43m'\u001b[39;49m\u001b[38;5;124;43m/n/holystore01/LABS/itc_lab/Users/ccuestalazaro/quijote/latin_hypercube\u001b[39;49m\u001b[38;5;124;43m'\u001b[39;49m\u001b[43m)\u001b[49m\u001b[43m,\u001b[49m\n\u001b[1;32m      6\u001b[0m \u001b[43m)\u001b[49m\n",
      "File \u001b[0;32m~/ili-summarizer/summarizer/data/catalogue.py:173\u001b[0m, in \u001b[0;36mBoxCatalogue.from_quijote\u001b[0;34m(cls, node, redshift, path_to_lhcs, n_halos, n_density_halos, los, n_mesh, boxsize)\u001b[0m\n\u001b[1;32m    144\u001b[0m \u001b[38;5;129m@classmethod\u001b[39m\n\u001b[1;32m    145\u001b[0m \u001b[38;5;28;01mdef\u001b[39;00m \u001b[38;5;21mfrom_quijote\u001b[39m(\n\u001b[1;32m    146\u001b[0m     \u001b[38;5;28mcls\u001b[39m,\n\u001b[0;32m   (...)\u001b[0m\n\u001b[1;32m    154\u001b[0m     boxsize: Optional[\u001b[38;5;28mfloat\u001b[39m] \u001b[38;5;241m=\u001b[39m \u001b[38;5;241m1000.0\u001b[39m,\n\u001b[1;32m    155\u001b[0m ) \u001b[38;5;241m-\u001b[39m\u001b[38;5;241m>\u001b[39m \u001b[38;5;124m\"\u001b[39m\u001b[38;5;124mBaseCatalogue\u001b[39m\u001b[38;5;124m\"\u001b[39m:\n\u001b[1;32m    156\u001b[0m \u001b[38;5;250m    \u001b[39m\u001b[38;5;124;03m\"\"\"Get a catalogue for the quijote simulations latin hyper cube\u001b[39;00m\n\u001b[1;32m    157\u001b[0m \n\u001b[1;32m    158\u001b[0m \u001b[38;5;124;03m    Args:\u001b[39;00m\n\u001b[0;32m   (...)\u001b[0m\n\u001b[1;32m    171\u001b[0m \u001b[38;5;124;03m        Catalogue: catalogue for simulation\u001b[39;00m\n\u001b[1;32m    172\u001b[0m \u001b[38;5;124;03m    \"\"\"\u001b[39;00m\n\u001b[0;32m--> 173\u001b[0m     \u001b[38;5;28;01mfrom\u001b[39;00m \u001b[38;5;21;01msummarizer\u001b[39;00m\u001b[38;5;21;01m.\u001b[39;00m\u001b[38;5;21;01mdata\u001b[39;00m\u001b[38;5;21;01m.\u001b[39;00m\u001b[38;5;21;01mquijote_utils\u001b[39;00m \u001b[38;5;28;01mimport\u001b[39;00m load_params_sim, load_sim\n\u001b[1;32m    175\u001b[0m     path_to_lhcs \u001b[38;5;241m=\u001b[39m Path(path_to_lhcs)\n\u001b[1;32m    176\u001b[0m     pos, vel, mass \u001b[38;5;241m=\u001b[39m load_sim(\n\u001b[1;32m    177\u001b[0m         node\u001b[38;5;241m=\u001b[39mnode, redshift\u001b[38;5;241m=\u001b[39mredshift, path_to_lhcs\u001b[38;5;241m=\u001b[39mpath_to_lhcs\n\u001b[1;32m    178\u001b[0m     )\n",
      "File \u001b[0;32m~/ili-summarizer/summarizer/data/quijote_utils.py:5\u001b[0m\n\u001b[1;32m      3\u001b[0m \u001b[38;5;28;01mimport\u001b[39;00m \u001b[38;5;21;01mnumpy\u001b[39;00m \u001b[38;5;28;01mas\u001b[39;00m \u001b[38;5;21;01mnp\u001b[39;00m\n\u001b[1;32m      4\u001b[0m \u001b[38;5;28;01mfrom\u001b[39;00m \u001b[38;5;21;01mtyping\u001b[39;00m \u001b[38;5;28;01mimport\u001b[39;00m Tuple, Optional, Dict\n\u001b[0;32m----> 5\u001b[0m \u001b[38;5;28;01mimport\u001b[39;00m \u001b[38;5;21;01mreadfof\u001b[39;00m\n\u001b[1;32m      8\u001b[0m \u001b[38;5;28;01mdef\u001b[39;00m \u001b[38;5;21mload_sim\u001b[39m(\n\u001b[1;32m      9\u001b[0m     node: \u001b[38;5;28mint\u001b[39m,\n\u001b[1;32m     10\u001b[0m     redshift: \u001b[38;5;28mfloat\u001b[39m,\n\u001b[1;32m     11\u001b[0m     path_to_lhcs: Path,\n\u001b[1;32m     12\u001b[0m ) \u001b[38;5;241m-\u001b[39m\u001b[38;5;241m>\u001b[39m Tuple[np\u001b[38;5;241m.\u001b[39marray, np\u001b[38;5;241m.\u001b[39marray, np\u001b[38;5;241m.\u001b[39marray]:\n\u001b[1;32m     13\u001b[0m \u001b[38;5;250m    \u001b[39m\u001b[38;5;124;03m\"\"\"load quijote simulationsn from latin hypercube\u001b[39;00m\n\u001b[1;32m     14\u001b[0m \n\u001b[1;32m     15\u001b[0m \u001b[38;5;124;03m    Args:\u001b[39;00m\n\u001b[0;32m   (...)\u001b[0m\n\u001b[1;32m     23\u001b[0m \u001b[38;5;124;03m        mass (np.array): array of halo masses (in Msun/h)\u001b[39;00m\n\u001b[1;32m     24\u001b[0m \u001b[38;5;124;03m    \"\"\"\u001b[39;00m\n",
      "\u001b[0;31mModuleNotFoundError\u001b[0m: No module named 'readfof'"
     ]
    }
   ],
   "source": [
    "cat = BoxCatalogue.from_quijote(\n",
    "    node=0,\n",
    "    redshift=0.5,\n",
    "    n_halos=10_000,\n",
    "    path_to_lhcs= Path('/n/holystore01/LABS/itc_lab/Users/ccuestalazaro/quijote/latin_hypercube'),\n",
    ")"
   ]
  },
  {
   "cell_type": "code",
   "execution_count": null,
   "metadata": {},
   "outputs": [],
   "source": [
    "\n",
    "galaxies_ra_dec_z = xyz_to_sky(\n",
    "    cat.galaxies_pos, \n",
    "    np.zeros_like(cat.galaxies_pos), \n",
    "    cat.cosmology,\n",
    ") \n",
    "randoms_pos = np.random.uniform(0, cat.boxsize, size=(10*len(cat), 3))\n",
    "\n",
    "randoms_ra_dec_z = xyz_to_sky(\n",
    "    randoms_pos, np.zeros_like(randoms_pos), cosmo= cat.cosmology,\n",
    ")"
   ]
  },
  {
   "cell_type": "code",
   "execution_count": null,
   "metadata": {},
   "outputs": [],
   "source": [
    "\n",
    "survey_cat = SurveyCatalogue(\n",
    "    galaxies_ra_dec_z = galaxies_ra_dec_z,\n",
    "    randoms_ra_dec_z= randoms_ra_dec_z,\n",
    "    redshift = 0.5,\n",
    "    fiducial_cosmology= cosmology.Planck15,\n",
    ")"
   ]
  },
  {
   "cell_type": "code",
   "execution_count": null,
   "metadata": {},
   "outputs": [],
   "source": [
    "\n",
    "r_bins = np.logspace(-1, np.log10(150.), 50)\n",
    "mu_bins = np.linspace(-1, 1, 120)\n",
    "tpcf_summarizer = TwoPCF(r_bins=r_bins, mu_bins=mu_bins,ells=[0,2])\n",
    "tpcf = tpcf_summarizer(cat, return_dataset=True)\n",
    "tpcf_survey = tpcf_summarizer(survey_cat, return_dataset=True,)\n"
   ]
  },
  {
   "cell_type": "code",
   "execution_count": null,
   "metadata": {},
   "outputs": [
    {
     "data": {
      "text/plain": [
       "Text(0, 0.5, 'TPCF')"
      ]
     },
     "execution_count": 11,
     "metadata": {},
     "output_type": "execute_result"
    },
    {
     "data": {
      "image/png": "[encoded data removed]",
      "text/plain": [
       "<Figure size 640x480 with 1 Axes>"
      ]
     },
     "metadata": {},
     "output_type": "display_data"
    }
   ],
   "source": [
    "plt.loglog(tpcf.r, tpcf.sel(ells=0).values,label='Box')\n",
    "plt.loglog(tpcf_survey.r, tpcf_survey.sel(ells=0).values,label='Survey')\n",
    "plt.legend()\n",
    "plt.xlabel('r [Mpc/h]')\n",
    "plt.ylabel('TPCF')"
   ]
  },
  {
   "cell_type": "code",
   "execution_count": null,
   "metadata": {},
   "outputs": [],
   "source": [
    "pk_summarizer = Pk(n_mesh=cat.n_mesh, ells=[0,2],)\n",
    "pk = pk_summarizer(cat, return_dataset=True,)\n",
    "pk_survey = pk_summarizer(survey_cat, return_dataset=True,)"
   ]
  },
  {
   "cell_type": "code",
   "execution_count": null,
   "metadata": {},
   "outputs": [],
   "source": [
    "plt.loglog(pk.k, pk.sel(ells=0).values,label='Box')\n",
    "plt.loglog(pk_survey.k, pk_survey.sel(ells=0).values,label='Survey')\n",
    "plt.legend()\n",
    "plt.xlabel('k')\n",
    "plt.ylabel('Pk')"
   ]
  },
  {
   "cell_type": "code",
   "execution_count": 5,
   "metadata": {},
   "outputs": [
    {
     "ename": "NameError",
     "evalue": "name 'Mk' is not defined",
     "output_type": "error",
     "traceback": [
      "\u001b[0;31m---------------------------------------------------------------------------\u001b[0m",
      "\u001b[0;31mNameError\u001b[0m                                 Traceback (most recent call last)",
      "Cell \u001b[0;32mIn[5], line 1\u001b[0m\n\u001b[0;32m----> 1\u001b[0m marked_pk_summarizer \u001b[38;5;241m=\u001b[39m \u001b[43mMk\u001b[49m(\n\u001b[1;32m      2\u001b[0m     smoothing_radius\u001b[38;5;241m=\u001b[39m\u001b[38;5;241m30.\u001b[39m,\n\u001b[1;32m      3\u001b[0m     n_mesh\u001b[38;5;241m=\u001b[39mcat\u001b[38;5;241m.\u001b[39mn_mesh, \n\u001b[1;32m      4\u001b[0m     ells\u001b[38;5;241m=\u001b[39m[\u001b[38;5;241m0\u001b[39m,\u001b[38;5;241m2\u001b[39m],\n\u001b[1;32m      5\u001b[0m )\n\u001b[1;32m      6\u001b[0m mk \u001b[38;5;241m=\u001b[39m marked_pk_summarizer(cat, return_dataset\u001b[38;5;241m=\u001b[39m\u001b[38;5;28;01mTrue\u001b[39;00m,)\n\u001b[1;32m      7\u001b[0m mk_survey \u001b[38;5;241m=\u001b[39m marked_pk_summarizer(survey_cat, return_dataset\u001b[38;5;241m=\u001b[39m\u001b[38;5;28;01mTrue\u001b[39;00m,)\n",
      "\u001b[0;31mNameError\u001b[0m: name 'Mk' is not defined"
     ]
    }
   ],
   "source": [
    "marked_pk_summarizer = Mk(\n",
    "    smoothing_radius=30.,\n",
    "    n_mesh=cat.n_mesh, \n",
    "    ells=[0,2],\n",
    ")\n",
    "mk = marked_pk_summarizer(cat, return_dataset=True,)\n",
    "mk_survey = marked_pk_summarizer(survey_cat, return_dataset=True,)"
   ]
  },
  {
   "cell_type": "code",
   "execution_count": null,
   "metadata": {},
   "outputs": [],
   "source": [
    "plt.loglog(mk.k, mk.sel(ells=0).values,label='Box')\n",
    "plt.loglog(mk_survey.k, mk_survey.sel(ells=0).values,label='Survey')\n",
    "plt.legend()\n",
    "plt.xlabel('k')\n",
    "plt.ylabel('Mk')"
   ]
  },
  {
   "cell_type": "code",
   "execution_count": null,
   "metadata": {},
   "outputs": [],
   "source": [
    "wst_summarizer = WST(n_mesh=cat.n_mesh,)\n",
    "wst = wst_summarizer(cat, return_dataset=True,)\n",
    "wst_survey = wst_summarizer(survey_cat, return_dataset=True,)"
   ]
  },
  {
   "cell_type": "code",
   "execution_count": null,
   "metadata": {},
   "outputs": [],
   "source": [
    "plt.plot(wst.values,label='Box')\n",
    "plt.plot(wst_survey.values,label='Survey')\n",
    "plt.legend()\n",
    "plt.xlabel('coefficient')\n",
    "plt.ylabel('WST')"
   ]
  },
  {
   "cell_type": "code",
   "execution_count": null,
   "metadata": {},
   "outputs": [],
   "source": [
    "\n",
    "r_bins = np.logspace(-1, np.log10(150.), 50)\n",
    "mu_bins = np.linspace(-1, 1, 120)\n",
    "ds_summarizer = DensitySplit(\n",
    "    n_mesh=cat.n_mesh,\n",
    "    r_bins=r_bins,\n",
    "    mu_bins=mu_bins,\n",
    "    ells=[0,2],\n",
    ")\n",
    "ds = ds_summarizer(cat, return_dataset=True,)\n",
    "ds_survey = ds_summarizer(survey_cat, return_dataset=True,)"
   ]
  },
  {
   "cell_type": "code",
   "execution_count": null,
   "metadata": {},
   "outputs": [],
   "source": [
    "for quantile in [0,1,4,5]:\n",
    "    c = plt.plot(ds.r, ds.r**2*ds.sel(ells=0, quantile=quantile,).values,label='Box' if quantile == 0 else None,)\n",
    "    plt.plot(ds_survey.r, ds_survey.r**2*ds_survey.sel(ells=0, quantile=quantile,).values,label='Survey' if quantile == 0 else None, color=c[0].get_color(), linestyle='dashed')\n",
    "plt.legend()\n",
    "plt.xlabel('r [Mpc/h]')\n",
    "plt.ylabel('TPCF')"
   ]
  }
 ],
 "metadata": {
  "kernelspec": {
   "display_name": "cmass-env",
   "language": "python",
   "name": "python3"
  },
  "language_info": {
   "codemirror_mode": {
    "name": "ipython",
    "version": 3
   },
   "file_extension": ".py",
   "mimetype": "text/x-python",
   "name": "python",
   "nbconvert_exporter": "python",
   "pygments_lexer": "ipython3",
   "version": "3.12.3"
  }
 },
 "nbformat": 4,
 "nbformat_minor": 2
}
